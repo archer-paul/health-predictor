{
 "cells": [
  {
   "cell_type": "markdown",
   "metadata": {},
   "source": [
    "# Exploration des données d'affluence hospitalière\n",
    "\n",
    "Ce notebook permet d'explorer les données brutes d'affluence hospitalière et de comprendre leurs caractéristiques pour la modélisation prédictive."
   ]
  },
  {
   "cell_type": "code",
   "execution_count": 1,
   "metadata": {},
   "outputs": [
    {
     "ename": "ImportError",
     "evalue": "cannot import name 'load_hospital_data' from 'src.data.data_loader' (c:\\Users\\Paul\\OneDrive - telecom-paristech.fr\\Documents\\Telecom\\Projets\\HealthPredictor\\src\\data\\data_loader.py)",
     "output_type": "error",
     "traceback": [
      "\u001b[31m---------------------------------------------------------------------------\u001b[39m",
      "\u001b[31mImportError\u001b[39m                               Traceback (most recent call last)",
      "\u001b[36mCell\u001b[39m\u001b[36m \u001b[39m\u001b[32mIn[1]\u001b[39m\u001b[32m, line 15\u001b[39m\n\u001b[32m     12\u001b[39m sys.path.append(os.path.abspath(os.path.join(os.getcwd(), \u001b[33m'\u001b[39m\u001b[33m..\u001b[39m\u001b[33m'\u001b[39m)))\n\u001b[32m     14\u001b[39m \u001b[38;5;66;03m# Import des fonctions du projet\u001b[39;00m\n\u001b[32m---> \u001b[39m\u001b[32m15\u001b[39m \u001b[38;5;28;01mfrom\u001b[39;00m\u001b[38;5;250m \u001b[39m\u001b[34;01msrc\u001b[39;00m\u001b[34;01m.\u001b[39;00m\u001b[34;01mdata\u001b[39;00m\u001b[34;01m.\u001b[39;00m\u001b[34;01mdata_loader\u001b[39;00m\u001b[38;5;250m \u001b[39m\u001b[38;5;28;01mimport\u001b[39;00m load_hospital_data\n\u001b[32m     17\u001b[39m \u001b[38;5;66;03m# Configuration des graphiques\u001b[39;00m\n\u001b[32m     18\u001b[39m plt.style.use(\u001b[33m'\u001b[39m\u001b[33mseaborn-whitegrid\u001b[39m\u001b[33m'\u001b[39m)\n",
      "\u001b[36mFile \u001b[39m\u001b[32mc:\\Users\\Paul\\OneDrive - telecom-paristech.fr\\Documents\\Telecom\\Projets\\HealthPredictor\\src\\data\\__init__.py:5\u001b[39m\n\u001b[32m      1\u001b[39m \u001b[33;03m\"\"\"\u001b[39;00m\n\u001b[32m      2\u001b[39m \u001b[33;03mSous-package pour le chargement et le prétraitement des données.\u001b[39;00m\n\u001b[32m      3\u001b[39m \u001b[33;03m\"\"\"\u001b[39;00m\n\u001b[32m----> \u001b[39m\u001b[32m5\u001b[39m \u001b[38;5;28;01mfrom\u001b[39;00m\u001b[38;5;250m \u001b[39m\u001b[34;01m.\u001b[39;00m\u001b[34;01mdata_loader\u001b[39;00m\u001b[38;5;250m \u001b[39m\u001b[38;5;28;01mimport\u001b[39;00m load_hospital_data\n\u001b[32m      6\u001b[39m \u001b[38;5;28;01mfrom\u001b[39;00m\u001b[38;5;250m \u001b[39m\u001b[34;01m.\u001b[39;00m\u001b[34;01mmake_dataset\u001b[39;00m\u001b[38;5;250m \u001b[39m\u001b[38;5;28;01mimport\u001b[39;00m preprocess_data\n\u001b[32m      8\u001b[39m __all__ = [\u001b[33m'\u001b[39m\u001b[33mload_hospital_data\u001b[39m\u001b[33m'\u001b[39m, \u001b[33m'\u001b[39m\u001b[33mpreprocess_data\u001b[39m\u001b[33m'\u001b[39m]\n",
      "\u001b[31mImportError\u001b[39m: cannot import name 'load_hospital_data' from 'src.data.data_loader' (c:\\Users\\Paul\\OneDrive - telecom-paristech.fr\\Documents\\Telecom\\Projets\\HealthPredictor\\src\\data\\data_loader.py)"
     ]
    }
   ],
   "source": [
    "# Import des bibliothèques nécessaires\n",
    "import numpy as np\n",
    "import pandas as pd\n",
    "import matplotlib.pyplot as plt\n",
    "import seaborn as sns\n",
    "from statsmodels.tsa.seasonal import seasonal_decompose\n",
    "from statsmodels.graphics.tsaplots import plot_acf, plot_pacf\n",
    "import os\n",
    "import sys\n",
    "\n",
    "# Ajout du répertoire parent au path pour importer les modules du projet\n",
    "sys.path.append(os.path.abspath(os.path.join(os.getcwd(), '..')))\n",
    "\n",
    "# Import des fonctions du projet\n",
    "from src.data.data_loader import load_hospital_data\n",
    "\n",
    "# Configuration des graphiques\n",
    "plt.style.use('seaborn-whitegrid')\n",
    "sns.set(font_scale=1.2)\n",
    "plt.rcParams['figure.figsize'] = (12, 8)"
   ]
  },
  {
   "cell_type": "markdown",
   "metadata": {},
   "source": [
    "## 1. Chargement des données"
   ]
  },
  {
   "cell_type": "code",
   "execution_count": null,
   "metadata": {},
   "outputs": [],
   "source": [
    "# Chargement des données brutes\n",
    "data_path = '../data/raw/hospital_data.csv'\n",
    "df = load_hospital_data(data_path)\n",
    "\n",
    "# Affichage des premières lignes\n",
    "print(f\"Dimensions des données: {df.shape}\")\n",
    "df.head()"
   ]
  },
  {
   "cell_type": "markdown",
   "metadata": {},
   "source": [
    "## 2. Analyse des statistiques descriptives"
   ]
  },
  {
   "cell_type": "code",
   "execution_count": null,
   "metadata": {},
   "outputs": [],
   "source": [
    "# Statistiques descriptives des données\n",
    "df.describe()"
   ]
  },
  {
   "cell_type": "code",
   "execution_count": null,
   "metadata": {},
   "outputs": [],
   "source": [
    "# Vérification des valeurs manquantes\n",
    "print(\"Nombre de valeurs manquantes par colonne:\")\n",
    "df.isna().sum()"
   ]
  },
  {
   "cell_type": "markdown",
   "metadata": {},
   "source": [
    "## 3. Visualisation des séries temporelles"
   ]
  },
  {
   "cell_type": "code",
   "execution_count": null,
   "metadata": {},
   "outputs": [],
   "source": [
    "# Conversion de la colonne de date en index temporel si nécessaire\n",
    "if 'date' in df.columns:\n",
    "    df['date'] = pd.to_datetime(df['date'])\n",
    "    df.set_index('date', inplace=True)\n",
    "\n",
    "# Visualisation de l'affluence au fil du temps\n",
    "plt.figure(figsize=(14, 8))\n",
    "plt.plot(df.index, df['patient_count'], color='steelblue')\n",
    "plt.title('Affluence hospitalière au fil du temps', fontsize=16)\n",
    "plt.xlabel('Date', fontsize=12)\n",
    "plt.ylabel('Nombre de patients', fontsize=12)\n",
    "plt.grid(True, alpha=0.3)\n",
    "plt.tight_layout()\n",
    "plt.show()"
   ]
  },
  {
   "cell_type": "markdown",
   "metadata": {},
   "source": [
    "## 4. Analyse des patterns saisonniers"
   ]
  },
  {
   "cell_type": "code",
   "execution_count": null,
   "metadata": {},
   "outputs": [],
   "source": [
    "# Décomposition de la série temporelle\n",
    "decomposition = seasonal_decompose(df['patient_count'], model='additive', period=7)  # période de 7 jours pour tendance hebdomadaire\n",
    "\n",
    "# Visualisation de la décomposition\n",
    "fig, axes = plt.subplots(4, 1, figsize=(14, 12), sharex=True)\n",
    "decomposition.observed.plot(ax=axes[0], title='Série originale')\n",
    "decomposition.trend.plot(ax=axes[1], title='Tendance')\n",
    "decomposition.seasonal.plot(ax=axes[2], title='Saisonnalité')\n",
    "decomposition.resid.plot(ax=axes[3], title='Résidus')\n",
    "plt.tight_layout()\n",
    "plt.show()"
   ]
  },
  {
   "cell_type": "markdown",
   "metadata": {},
   "source": [
    "## 5. Analyse des patterns hebdomadaires"
   ]
  },
  {
   "cell_type": "code",
   "execution_count": null,
   "metadata": {},
   "outputs": [],
   "source": [
    "# Ajout d'une colonne pour le jour de la semaine\n",
    "df['day_of_week'] = df.index.day_name()\n",
    "\n",
    "# Visualisation de la moyenne d'affluence par jour de la semaine\n",
    "day_order = ['Monday', 'Tuesday', 'Wednesday', 'Thursday', 'Friday', 'Saturday', 'Sunday']\n",
    "plt.figure(figsize=(12, 6))\n",
    "sns.boxplot(x='day_of_week', y='patient_count', data=df, order=day_order)\n",
    "plt.title('Distribution de l\\'affluence par jour de la semaine', fontsize=16)\n",
    "plt.xlabel('Jour de la semaine', fontsize=12)\n",
    "plt.ylabel('Nombre de patients', fontsize=12)\n",
    "plt.grid(True, alpha=0.3)\n",
    "plt.tight_layout()\n",
    "plt.show()"
   ]
  },
  {
   "cell_type": "markdown",
   "metadata": {},
   "source": [
    "## 6. Analyse des patterns mensuels et saisonniers"
   ]
  },
  {
   "cell_type": "code",
   "execution_count": null,
   "metadata": {},
   "outputs": [],
   "source": [
    "# Ajout d'une colonne pour le mois\n",
    "df['month'] = df.index.month_name()\n",
    "\n",
    "# Visualisation de la moyenne d'affluence par mois\n",
    "month_order = ['January', 'February', 'March', 'April', 'May', 'June', 'July', 'August', 'September', 'October', 'November', 'December']\n",
    "plt.figure(figsize=(14, 6))\n",
    "sns.boxplot(x='month', y='patient_count', data=df, order=month_order)\n",
    "plt.title('Distribution de l\\'affluence par mois', fontsize=16)\n",
    "plt.xlabel('Mois', fontsize=12)\n",
    "plt.ylabel('Nombre de patients', fontsize=12)\n",
    "plt.xticks(rotation=45)\n",
    "plt.grid(True, alpha=0.3)\n",
    "plt.tight_layout()\n",
    "plt.show()"
   ]
  },
  {
   "cell_type": "markdown",
   "metadata": {},
   "source": [
    "## 7. Analyse de corrélation avec d'autres facteurs"
   ]
  },
  {
   "cell_type": "code",
   "execution_count": null,
   "metadata": {},
   "outputs": [],
   "source": [
    "# Matrice de corrélation si d'autres variables sont disponibles\n",
    "if len(df.columns) > 1:\n",
    "    # Sélectionner uniquement les colonnes numériques\n",
    "    numeric_cols = df.select_dtypes(include=[np.number]).columns\n",
    "    \n",
    "    plt.figure(figsize=(12, 10))\n",
    "    corr_matrix = df[numeric_cols].corr()\n",
    "    sns.heatmap(corr_matrix, annot=True, cmap='coolwarm', linewidths=0.5)\n",
    "    plt.title('Matrice de corrélation des variables', fontsize=16)\n",
    "    plt.tight_layout()\n",
    "    plt.show()"
   ]
  },
  {
   "cell_type": "markdown",
   "metadata": {},
   "source": [
    "## 8. Analyse de l'autocorrélation"
   ]
  },
  {
   "cell_type": "code",
   "execution_count": null,
   "metadata": {},
   "outputs": [],
   "source": [
    "# Graphique d'autocorrélation\n",
    "plt.figure(figsize=(14, 6))\n",
    "plot_acf(df['patient_count'], lags=50, alpha=0.05)\n",
    "plt.title('Fonction d\\'autocorrélation (ACF)', fontsize=16)\n",
    "plt.grid(True, alpha=0.3)\n",
    "plt.tight_layout()\n",
    "plt.show()\n",
    "\n",
    "# Graphique d'autocorrélation partielle\n",
    "plt.figure(figsize=(14, 6))\n",
    "plot_pacf(df['patient_count'], lags=50, alpha=0.05, method='ywm')\n",
    "plt.title('Fonction d\\'autocorrélation partielle (PACF)', fontsize=16)\n",
    "plt.grid(True, alpha=0.3)\n",
    "plt.tight_layout()\n",
    "plt.show()"
   ]
  },
  {
   "cell_type": "markdown",
   "metadata": {},
   "source": [
    "## 9. Conclusions préliminaires\n",
    "\n",
    "À partir de l'analyse exploratoire des données, nous pouvons tirer les conclusions suivantes :\n",
    "\n",
    "1. **Structure temporelle** : [à compléter après analyse]\n",
    "2. **Saisonnalité** : [à compléter après analyse]\n",
    "3. **Patterns hebdomadaires** : [à compléter après analyse]\n",
    "4. **Corrélations avec d'autres facteurs** : [à compléter après analyse]\n",
    "5. **Stationnarité** : [à compléter après analyse]\n",
    "\n",
    "Ces observations guideront notre approche de modélisation dans les prochaines étapes."
   ]
  }
 ],
 "metadata": {
  "kernelspec": {
   "display_name": "Python 3",
   "language": "python",
   "name": "python3"
  },
  "language_info": {
   "codemirror_mode": {
    "name": "ipython",
    "version": 3
   },
   "file_extension": ".py",
   "mimetype": "text/x-python",
   "name": "python",
   "nbconvert_exporter": "python",
   "pygments_lexer": "ipython3",
   "version": "3.11.9"
  }
 },
 "nbformat": 4,
 "nbformat_minor": 4
}
